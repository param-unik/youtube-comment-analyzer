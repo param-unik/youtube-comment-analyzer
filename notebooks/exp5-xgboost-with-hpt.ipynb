{
 "cells": [
  {
   "cell_type": "code",
   "execution_count": 1,
   "metadata": {},
   "outputs": [],
   "source": [
    "import mlflow\n",
    "\n",
    "# Step 2: Set up the MLflow tracking server - EC2\n",
    "# mlflow.set_tracking_uri(\"http://ec2-3-81-236-116.compute-1.amazonaws.com:5000/\")\n",
    "\n",
    "# Step 2: Set up the MLflow tracking server - local\n",
    "mlflow.set_tracking_uri(\"http://127.0.0.1:5000/\")"
   ]
  },
  {
   "cell_type": "code",
   "execution_count": 2,
   "metadata": {},
   "outputs": [
    {
     "data": {
      "text/plain": [
       "<Experiment: artifact_location='mlflow-artifacts:/602507174562575349', creation_time=1733052718653, experiment_id='602507174562575349', last_update_time=1733052718653, lifecycle_stage='active', name='Exp 5 - ML Algos with HP Tuning', tags={'mlflow.sharedViewState.18b6912cf74fa902831e9d8dc77772941ea4ec17a69b1246999c67a35c584f16': 'deflate;eJxtksFu2zAMhl9l0DkY0h59c4N0K5YMg9MFA4IhVSQmJkBLhih18Yq8+ygnnd0gR378f4oU+aYYdDD1I1KEoAqlJsoHC+Gh+wadxDrGgLsUgT9z1CFuIzYwiEo2qthrYpioPv+c04UqFwsREe7BdIbgf/nSRHzNfqujZoj8ntn8nqjGW6A1BEbvBgfRpyo5Fg8DgYlgZ55SI6TYjNt7WfkUDLyIcEyXuShn2oBQI2i6DWA00Qd4dwve34LamBS06a5qtiLF3PpV2dv8fsxl9iAjzo+tdhasKt5OZ/IDncvx5qL4itaCG+K1FNghYeyWuh1sZ1meXD7w8alaPW/vptvq5/eVtPCK8Gepj9jg31z6sjyxLZDj+wMXilwaI6uWLivoVz6yJIYvwacW7FpTAn5ys1ouQPYSQ5J8jRbmTRu7j/iQPQ9yWy4RXcKr0XWKvoJ9AK7nTu9o9OiB/E7TAh30VWfe7fEgLnUsj8jnm+UIbX99DlaN97F2wPL8dLigX1m87HdxtqjT6R85zBYB'}>"
      ]
     },
     "execution_count": 2,
     "metadata": {},
     "output_type": "execute_result"
    }
   ],
   "source": [
    "# Set or create an experiment\n",
    "mlflow.set_experiment(\"Exp 5 - ML Algos with HP Tuning\")"
   ]
  },
  {
   "cell_type": "code",
   "execution_count": 3,
   "metadata": {},
   "outputs": [
    {
     "name": "stderr",
     "output_type": "stream",
     "text": [
      "c:\\Data-Science\\CampusX\\Projects\\youtube-comment-analyzer\\.venv\\Lib\\site-packages\\tqdm\\auto.py:21: TqdmWarning: IProgress not found. Please update jupyter and ipywidgets. See https://ipywidgets.readthedocs.io/en/stable/user_install.html\n",
      "  from .autonotebook import tqdm as notebook_tqdm\n"
     ]
    }
   ],
   "source": [
    "import optuna\n",
    "import mlflow\n",
    "import mlflow.sklearn\n",
    "from sklearn.model_selection import train_test_split\n",
    "from sklearn.metrics import accuracy_score, classification_report\n",
    "from sklearn.feature_extraction.text import TfidfVectorizer\n",
    "from sklearn.linear_model import LogisticRegression\n",
    "from sklearn.svm import SVC\n",
    "from xgboost import XGBClassifier\n",
    "from lightgbm import LGBMClassifier\n",
    "from sklearn.neighbors import KNeighborsClassifier\n",
    "from sklearn.naive_bayes import MultinomialNB\n",
    "from sklearn.ensemble import RandomForestClassifier\n",
    "from imblearn.over_sampling import SMOTE, ADASYN\n",
    "import matplotlib.pyplot as plt\n",
    "import seaborn as sns\n",
    "import pandas as pd"
   ]
  },
  {
   "cell_type": "code",
   "execution_count": 4,
   "metadata": {},
   "outputs": [
    {
     "data": {
      "text/plain": [
       "(36662, 2)"
      ]
     },
     "execution_count": 4,
     "metadata": {},
     "output_type": "execute_result"
    }
   ],
   "source": [
    "df = pd.read_csv(\"dataset.csv\").dropna(subset=[\"clean_comment\"])\n",
    "df.shape"
   ]
  },
  {
   "cell_type": "code",
   "execution_count": 5,
   "metadata": {},
   "outputs": [],
   "source": [
    "#  Step 1: Remap the class labels from [-1, 0, 1] to [2, 0, 1]\n",
    "df[\"category\"] = df[\"category\"].map({-1: 2, 0: 0, 1: 1})\n",
    "\n",
    "# Step 2: Remove rows where the target labels (category) are NaN\n",
    "df = df.dropna(subset=[\"category\"])\n",
    "\n",
    "ngram_range = (1, 3)  # Trigram setting\n",
    "# ngram_range = (1, 2)  # Bigram setting\n",
    "\n",
    "max_features = 1000  # Set max_features to 1000 for TF-IDF\n",
    "\n",
    "# Step 4: Train-test split before vectorization and resampling\n",
    "X_train, X_test, y_train, y_test = train_test_split(\n",
    "    df[\"clean_comment\"], df[\"category\"], test_size=0.2, random_state=42, stratify=df[\"category\"]\n",
    ")\n",
    "\n",
    "# Step 2: Vectorization using TF-IDF, fit on training data only\n",
    "vectorizer = TfidfVectorizer(ngram_range=ngram_range, max_features=max_features)\n",
    "X_train_vec = vectorizer.fit_transform(X_train)  # Fit on training data\n",
    "X_test_vec = vectorizer.transform(X_test)  # Transform test data\n",
    "\n",
    "# smote = SMOTE(random_state=42)\n",
    "adasyn = ADASYN(random_state=42)\n",
    "\n",
    "# X_train_resampled, y_train_resampled = smote.fit_resample(X_train_vec, y_train)\n",
    "X_train_resampled, y_train_resampled = adasyn.fit_resample(X_train_vec, y_train)"
   ]
  },
  {
   "cell_type": "code",
   "execution_count": 6,
   "metadata": {},
   "outputs": [
    {
     "name": "stderr",
     "output_type": "stream",
     "text": [
      "[I 2024-12-02 11:12:58,399] A new study created in memory with name: no-name-326a12ea-a4f2-4a66-b1ee-2ccc7d9526c8\n",
      "[I 2024-12-02 11:13:28,782] Trial 0 finished with value: 0.6335742533751534 and parameters: {'n_estimators': 154, 'learning_rate': 0.008011975231730929, 'max_depth': 6}. Best is trial 0 with value: 0.6335742533751534.\n",
      "[I 2024-12-02 11:13:42,998] Trial 1 finished with value: 0.6862130096822583 and parameters: {'n_estimators': 257, 'learning_rate': 0.03574762075492366, 'max_depth': 3}. Best is trial 1 with value: 0.6862130096822583.\n",
      "[I 2024-12-02 11:15:59,261] Trial 2 finished with value: 0.6282558298104459 and parameters: {'n_estimators': 230, 'learning_rate': 0.0010996708501398197, 'max_depth': 10}. Best is trial 1 with value: 0.6862130096822583.\n",
      "[I 2024-12-02 11:16:42,052] Trial 3 finished with value: 0.6758489022228283 and parameters: {'n_estimators': 197, 'learning_rate': 0.018744678793224143, 'max_depth': 6}. Best is trial 1 with value: 0.6862130096822583.\n",
      "[I 2024-12-02 11:17:13,608] Trial 4 finished with value: 0.6341197327151235 and parameters: {'n_estimators': 62, 'learning_rate': 0.008533102046608114, 'max_depth': 9}. Best is trial 1 with value: 0.6862130096822583.\n",
      "[I 2024-12-02 11:17:38,260] Trial 5 finished with value: 0.5408427655802537 and parameters: {'n_estimators': 237, 'learning_rate': 0.0009077170178448004, 'max_depth': 4}. Best is trial 1 with value: 0.6862130096822583.\n",
      "[I 2024-12-02 11:18:12,619] Trial 6 finished with value: 0.6406654847947634 and parameters: {'n_estimators': 152, 'learning_rate': 0.009285054837060373, 'max_depth': 6}. Best is trial 1 with value: 0.6862130096822583.\n",
      "[I 2024-12-02 11:18:44,231] Trial 7 finished with value: 0.6836219828174008 and parameters: {'n_estimators': 220, 'learning_rate': 0.023730113128434344, 'max_depth': 5}. Best is trial 1 with value: 0.6862130096822583.\n",
      "[I 2024-12-02 11:19:05,640] Trial 8 finished with value: 0.7350334106095732 and parameters: {'n_estimators': 244, 'learning_rate': 0.06433166523658831, 'max_depth': 4}. Best is trial 8 with value: 0.7350334106095732.\n",
      "[I 2024-12-02 11:20:04,358] Trial 9 finished with value: 0.6046638483567435 and parameters: {'n_estimators': 102, 'learning_rate': 0.0003592997958237717, 'max_depth': 10}. Best is trial 8 with value: 0.7350334106095732.\n",
      "[I 2024-12-02 11:21:23,921] Trial 10 finished with value: 0.7805809354970681 and parameters: {'n_estimators': 286, 'learning_rate': 0.07419755031133021, 'max_depth': 8}. Best is trial 10 with value: 0.7805809354970681.\n",
      "[I 2024-12-02 11:22:41,916] Trial 11 finished with value: 0.7861720987317605 and parameters: {'n_estimators': 300, 'learning_rate': 0.09212257773832097, 'max_depth': 8}. Best is trial 11 with value: 0.7861720987317605.\n",
      "[I 2024-12-02 11:24:02,435] Trial 12 finished with value: 0.7853538797218055 and parameters: {'n_estimators': 300, 'learning_rate': 0.08740364074791315, 'max_depth': 8}. Best is trial 11 with value: 0.7861720987317605.\n",
      "[I 2024-12-02 11:25:18,799] Trial 13 finished with value: 0.7856266193917906 and parameters: {'n_estimators': 297, 'learning_rate': 0.09854647048893597, 'max_depth': 8}. Best is trial 11 with value: 0.7861720987317605.\n",
      "[I 2024-12-02 11:27:15,787] Trial 14 finished with value: 0.6398472657848084 and parameters: {'n_estimators': 276, 'learning_rate': 0.0036013096910931805, 'max_depth': 8}. Best is trial 11 with value: 0.7861720987317605.\n",
      "[I 2024-12-02 11:28:25,501] Trial 15 finished with value: 0.7486703941088231 and parameters: {'n_estimators': 299, 'learning_rate': 0.03629033983388656, 'max_depth': 7}. Best is trial 11 with value: 0.7861720987317605.\n",
      "[I 2024-12-02 11:29:57,902] Trial 16 finished with value: 0.6068457657166235 and parameters: {'n_estimators': 192, 'learning_rate': 0.00014531094923296757, 'max_depth': 9}. Best is trial 11 with value: 0.7861720987317605.\n",
      "[I 2024-12-02 11:31:18,658] Trial 17 finished with value: 0.6199372698759035 and parameters: {'n_estimators': 262, 'learning_rate': 0.002932491478435355, 'max_depth': 7}. Best is trial 11 with value: 0.7861720987317605.\n",
      "[I 2024-12-02 11:31:58,747] Trial 18 finished with value: 0.758761761898268 and parameters: {'n_estimators': 110, 'learning_rate': 0.09830833422916602, 'max_depth': 9}. Best is trial 11 with value: 0.7861720987317605.\n",
      "[I 2024-12-02 11:33:00,623] Trial 19 finished with value: 0.6838947224873858 and parameters: {'n_estimators': 208, 'learning_rate': 0.017333590564541188, 'max_depth': 7}. Best is trial 11 with value: 0.7861720987317605.\n",
      "[I 2024-12-02 11:34:27,169] Trial 20 finished with value: 0.7512614209736806 and parameters: {'n_estimators': 269, 'learning_rate': 0.03748209959107995, 'max_depth': 8}. Best is trial 11 with value: 0.7861720987317605.\n",
      "[I 2024-12-02 11:35:40,967] Trial 21 finished with value: 0.7863084685667531 and parameters: {'n_estimators': 289, 'learning_rate': 0.09711445854210764, 'max_depth': 8}. Best is trial 21 with value: 0.7863084685667531.\n",
      "[I 2024-12-02 11:37:11,915] Trial 22 finished with value: 0.7796263466521206 and parameters: {'n_estimators': 279, 'learning_rate': 0.06449750744866314, 'max_depth': 9}. Best is trial 21 with value: 0.7863084685667531.\n",
      "[I 2024-12-02 11:38:28,947] Trial 23 finished with value: 0.7620346379380881 and parameters: {'n_estimators': 253, 'learning_rate': 0.04847193049054373, 'max_depth': 8}. Best is trial 21 with value: 0.7863084685667531.\n",
      "[I 2024-12-02 11:39:38,076] Trial 24 finished with value: 0.785217509886813 and parameters: {'n_estimators': 298, 'learning_rate': 0.09877636046568423, 'max_depth': 7}. Best is trial 21 with value: 0.7863084685667531.\n",
      "[I 2024-12-02 11:42:03,711] Trial 25 finished with value: 0.7358516296195282 and parameters: {'n_estimators': 278, 'learning_rate': 0.02254101607393208, 'max_depth': 10}. Best is trial 21 with value: 0.7863084685667531.\n",
      "[I 2024-12-02 11:43:09,240] Trial 26 finished with value: 0.7470339560889131 and parameters: {'n_estimators': 176, 'learning_rate': 0.04611855299093691, 'max_depth': 9}. Best is trial 21 with value: 0.7863084685667531.\n",
      "[I 2024-12-02 11:44:43,478] Trial 27 finished with value: 0.6772126005727533 and parameters: {'n_estimators': 253, 'learning_rate': 0.010539494646667112, 'max_depth': 8}. Best is trial 21 with value: 0.7863084685667531.\n",
      "[I 2024-12-02 11:46:13,238] Trial 28 finished with value: 0.6431201418246284 and parameters: {'n_estimators': 288, 'learning_rate': 0.004764329157905069, 'max_depth': 7}. Best is trial 21 with value: 0.7863084685667531.\n",
      "[I 2024-12-02 11:47:01,143] Trial 29 finished with value: 0.6633028774035183 and parameters: {'n_estimators': 220, 'learning_rate': 0.01340087702535643, 'max_depth': 6}. Best is trial 21 with value: 0.7863084685667531.\n",
      "2024/12/02 11:48:15 WARNING mlflow.models.model: Model logged without a signature and input example. Please set `input_example` parameter when logging the model to auto infer the model signature.\n"
     ]
    },
    {
     "name": "stdout",
     "output_type": "stream",
     "text": [
      "🏃 View run XGBoost_ADASYN_TFIDF_Trigrams at: http://127.0.0.1:5000/#/experiments/602507174562575349/runs/8fccef9b329244049ed4aefffb5d20e9\n",
      "🧪 View experiment at: http://127.0.0.1:5000/#/experiments/602507174562575349\n"
     ]
    }
   ],
   "source": [
    "# Function to log results in MLflow\n",
    "def log_mlflow(model_name, model, X_train, X_test, y_train, y_test):\n",
    "    with mlflow.start_run():\n",
    "        # Log model type\n",
    "        mlflow.set_tag(\"mlflow.runName\", f\"{model_name}_ADASYN_TFIDF_Trigrams\")\n",
    "        mlflow.set_tag(\"experiment_type\", \"algorithm_comparison\")\n",
    "\n",
    "        # Log algorithm name as a parameter\n",
    "        mlflow.log_param(\"algo_name\", f\"{model_name}_triADASYSN\")\n",
    "\n",
    "        # Train model\n",
    "        model.fit(X_train, y_train)\n",
    "        y_pred = model.predict(X_test)\n",
    "\n",
    "        # Log accuracy\n",
    "        accuracy = accuracy_score(y_test, y_pred)\n",
    "        mlflow.log_metric(\"accuracy\", accuracy)\n",
    "\n",
    "        # Log classification report\n",
    "        classification_rep = classification_report(y_test, y_pred, output_dict=True)\n",
    "        for label, metrics in classification_rep.items():\n",
    "            if isinstance(metrics, dict):\n",
    "                for metric, value in metrics.items():\n",
    "                    mlflow.log_metric(f\"{label}_{metric}\", value)\n",
    "\n",
    "        # Log the model\n",
    "        mlflow.sklearn.log_model(model, f\"{model_name}_model\")\n",
    "\n",
    "\n",
    "# Step 6: Optuna objective function for XGBoost\n",
    "def objective_xgboost(trial):\n",
    "    n_estimators = trial.suggest_int(\"n_estimators\", 50, 300)\n",
    "    learning_rate = trial.suggest_float(\"learning_rate\", 1e-4, 1e-1, log=True)\n",
    "    max_depth = trial.suggest_int(\"max_depth\", 3, 10)\n",
    "\n",
    "    model = XGBClassifier(\n",
    "        n_estimators=n_estimators,\n",
    "        learning_rate=learning_rate,\n",
    "        max_depth=max_depth,\n",
    "        random_state=42,\n",
    "    )\n",
    "    return accuracy_score(y_test, model.fit(X_train_resampled, y_train_resampled).predict(X_test_vec))\n",
    "\n",
    "\n",
    "# Step 7: Run Optuna for XGBoost, log the best model only\n",
    "def run_optuna_experiment():\n",
    "    study = optuna.create_study(direction=\"maximize\")\n",
    "    study.optimize(objective_xgboost, n_trials=30)\n",
    "\n",
    "    # Get the best parameters and log only the best model\n",
    "    best_params = study.best_params\n",
    "    best_model = XGBClassifier(\n",
    "        n_estimators=best_params[\"n_estimators\"],\n",
    "        learning_rate=best_params[\"learning_rate\"],\n",
    "        max_depth=best_params[\"max_depth\"],\n",
    "        random_state=42,\n",
    "    )\n",
    "\n",
    "    # Log the best model with MLflow, passing the algo_name as \"xgboost\"\n",
    "    log_mlflow(\"XGBoost\", best_model, X_train_resampled, X_test_vec, y_train_resampled, y_test)\n",
    "\n",
    "\n",
    "# Run the experiment for XGBoost\n",
    "run_optuna_experiment()"
   ]
  },
  {
   "cell_type": "markdown",
   "metadata": {},
   "source": [
    "### Best parameters for XGBOOST"
   ]
  },
  {
   "cell_type": "markdown",
   "metadata": {},
   "source": [
    "`SMOTE with Trigram setting`"
   ]
  },
  {
   "cell_type": "markdown",
   "metadata": {},
   "source": [
    "` {'n_estimators': 298, 'learning_rate': 0.09929217871014055, 'max_depth': 9}. Best is trial 27 with value: 0.9035720570121415`"
   ]
  }
 ],
 "metadata": {
  "kernelspec": {
   "display_name": ".venv",
   "language": "python",
   "name": "python3"
  },
  "language_info": {
   "codemirror_mode": {
    "name": "ipython",
    "version": 3
   },
   "file_extension": ".py",
   "mimetype": "text/x-python",
   "name": "python",
   "nbconvert_exporter": "python",
   "pygments_lexer": "ipython3",
   "version": "3.11.7"
  }
 },
 "nbformat": 4,
 "nbformat_minor": 2
}
