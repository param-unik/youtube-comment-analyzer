{
 "cells": [
  {
   "cell_type": "code",
   "execution_count": 23,
   "metadata": {},
   "outputs": [],
   "source": [
    "import numpy as np\n",
    "import pandas as pd\n",
    "from nltk.corpus import stopwords\n",
    "from nltk.stem import WordNetLemmatizer\n",
    "from mlflow.tracking import MlflowClient\n",
    "import matplotlib.dates as mdates\n",
    "import mlflow\n",
    "import joblib\n",
    "import re "
   ]
  },
  {
   "cell_type": "code",
   "execution_count": null,
   "metadata": {},
   "outputs": [
    {
     "data": {
      "text/html": [
       "<div>\n",
       "<style scoped>\n",
       "    .dataframe tbody tr th:only-of-type {\n",
       "        vertical-align: middle;\n",
       "    }\n",
       "\n",
       "    .dataframe tbody tr th {\n",
       "        vertical-align: top;\n",
       "    }\n",
       "\n",
       "    .dataframe thead th {\n",
       "        text-align: right;\n",
       "    }\n",
       "</style>\n",
       "<table border=\"1\" class=\"dataframe\">\n",
       "  <thead>\n",
       "    <tr style=\"text-align: right;\">\n",
       "      <th></th>\n",
       "      <th>comments</th>\n",
       "    </tr>\n",
       "  </thead>\n",
       "  <tbody>\n",
       "    <tr>\n",
       "      <th>0</th>\n",
       "      <td>video great</td>\n",
       "    </tr>\n",
       "    <tr>\n",
       "      <th>1</th>\n",
       "      <td>absolutely hate video, not recommending anyone.</td>\n",
       "    </tr>\n",
       "  </tbody>\n",
       "</table>\n",
       "</div>"
      ],
      "text/plain": [
       "                                          comments\n",
       "0                                      video great\n",
       "1  absolutely hate video, not recommending anyone."
      ]
     },
     "execution_count": 12,
     "metadata": {},
     "output_type": "execute_result"
    }
   ],
   "source": [
    "df = pd.DataFrame(\n",
    "    [\"video great\", \"absolutely hate video, not recommending anyone.\"], columns=[\"comments\"]\n",
    ")\n",
    "df"
   ]
  },
  {
   "cell_type": "code",
   "execution_count": 13,
   "metadata": {},
   "outputs": [
    {
     "data": {
      "text/plain": [
       "array(['video great', 'absolutely hate video, not recommending anyone.'],\n",
       "      dtype=object)"
      ]
     },
     "execution_count": 13,
     "metadata": {},
     "output_type": "execute_result"
    }
   ],
   "source": [
    "df.comments.values"
   ]
  },
  {
   "cell_type": "code",
   "execution_count": 14,
   "metadata": {},
   "outputs": [],
   "source": [
    "# Define the preprocessing function\n",
    "def preprocess_comment(comment):\n",
    "    \"\"\"Apply preprocessing transformations to a comment.\"\"\"\n",
    "    try:\n",
    "        # Convert to lowercase\n",
    "        comment = comment.lower()\n",
    "\n",
    "        # Remove trailing and leading whitespaces\n",
    "        comment = comment.strip()\n",
    "\n",
    "        # Remove newline characters\n",
    "        comment = re.sub(r\"\\n\", \" \", comment)\n",
    "\n",
    "        # Remove non-alphanumeric characters, except punctuation\n",
    "        comment = re.sub(r\"[^A-Za-z0-9\\s!?.,]\", \"\", comment)\n",
    "\n",
    "        # Remove stopwords but retain important ones for sentiment analysis\n",
    "        stop_words = set(stopwords.words(\"english\")) - {\"not\", \"but\", \"however\", \"no\", \"yet\"}\n",
    "        comment = \" \".join([word for word in comment.split() if word not in stop_words])\n",
    "\n",
    "        # Lemmatize the words\n",
    "        lemmatizer = WordNetLemmatizer()\n",
    "        comment = \" \".join([lemmatizer.lemmatize(word) for word in comment.split()])\n",
    "\n",
    "        return comment\n",
    "    except Exception as e:\n",
    "        print(f\"Error in preprocessing comment: {e}\")\n",
    "        return comment"
   ]
  },
  {
   "cell_type": "code",
   "execution_count": 15,
   "metadata": {},
   "outputs": [],
   "source": [
    "def load_model_and_vectorizer(model_name, model_version, vectorizer_path):\n",
    "    # Set MLflow tracking URI to your server\n",
    "    mlflow.set_tracking_uri(\n",
    "        # \"http://ec2-54-196-109-131.compute-1.amazonaws.com:5000/\"\n",
    "        \"http://127.0.0.1:5000/\"\n",
    "    )  # Replace with your MLflow tracking URI\n",
    "\n",
    "    client = MlflowClient()\n",
    "    model_uri = f\"models:/{model_name}/{model_version}\"\n",
    "    model = mlflow.pyfunc.load_model(model_uri)\n",
    "    vectorizer = joblib.load(vectorizer_path)  # Load the vectorizer\n",
    "    return model, vectorizer"
   ]
  },
  {
   "cell_type": "code",
   "execution_count": 18,
   "metadata": {},
   "outputs": [
    {
     "data": {
      "application/vnd.jupyter.widget-view+json": {
       "model_id": "be102cbd0a57481bbfd446c55c5c0fcb",
       "version_major": 2,
       "version_minor": 0
      },
      "text/plain": [
       "Downloading artifacts:   0%|          | 0/7 [00:00<?, ?it/s]"
      ]
     },
     "metadata": {},
     "output_type": "display_data"
    }
   ],
   "source": [
    "# Initialize the model and vectorizer\n",
    "model, vectorizer = load_model_and_vectorizer(\n",
    "    \"yt_chrome_plugin_model\", \"3\", \"../tfidf_vectorizer.joblib\"\n",
    ")"
   ]
  },
  {
   "cell_type": "code",
   "execution_count": 20,
   "metadata": {},
   "outputs": [],
   "source": [
    "model = joblib.load('../lgbm_model.joblib')\n",
    "vectorizer = joblib.load('../tfidf_vectorizer.joblib')"
   ]
  },
  {
   "cell_type": "code",
   "execution_count": 21,
   "metadata": {},
   "outputs": [
    {
     "name": "stdout",
     "output_type": "stream",
     "text": [
      "pre-processed comments\n",
      "['video great', 'absolutely hate video, not recommending anyone.', 'really like teaching style']\n",
      "after transformation...\n",
      "  (np.int32(0), np.int32(3700))\t0.6708645876252822\n",
      "  (np.int32(0), np.int32(9514))\t0.7415798709986402\n",
      "  (np.int32(1), np.int32(143))\t0.42820272554945277\n",
      "  (np.int32(1), np.int32(519))\t0.3419813766993476\n",
      "  (np.int32(1), np.int32(3874))\t0.3618025797504715\n",
      "  (np.int32(1), np.int32(6046))\t0.20177053784985297\n",
      "  (np.int32(1), np.int32(9514))\t0.3728537569242583\n",
      "  (np.int32(1), np.int32(9518))\t0.6237457680112866\n",
      "  (np.int32(2), np.int32(4989))\t0.22133055676994662\n",
      "  (np.int32(2), np.int32(7369))\t0.29661277205758135\n",
      "  (np.int32(2), np.int32(7377))\t0.5739215495933175\n",
      "  (np.int32(2), np.int32(8624))\t0.4933543454252502\n",
      "  (np.int32(2), np.int32(8848))\t0.5387478007886909\n"
     ]
    }
   ],
   "source": [
    "comments = [\n",
    "    \"This video is great\",\n",
    "    \"I absolutely hate this video, not recommending to anyone.\",\n",
    "    \"I really like your teaching style\",\n",
    "]\n",
    "\n",
    "# Preprocess each comment before vectorizing\n",
    "preprocessed_comments = [preprocess_comment(comment) for comment in comments]\n",
    "\n",
    "print(\"pre-processed comments\")\n",
    "print(preprocessed_comments)\n",
    "\n",
    "# Transform comments using the vectorizer\n",
    "transformed_comments = vectorizer.transform(preprocessed_comments)\n",
    "\n",
    "print(\"after transformation...\")\n",
    "print(transformed_comments)\n",
    "\n",
    "# Make predictions\n",
    "predictions = model.predict(transformed_comments).tolist()  # Convert to list\n",
    "\n",
    "# Convert predictions to strings for consistency\n",
    "predictions = [str(pred) for pred in predictions]"
   ]
  },
  {
   "cell_type": "code",
   "execution_count": 22,
   "metadata": {},
   "outputs": [
    {
     "data": {
      "text/plain": [
       "['1', '-1', '1']"
      ]
     },
     "execution_count": 22,
     "metadata": {},
     "output_type": "execute_result"
    }
   ],
   "source": [
    "predictions"
   ]
  },
  {
   "cell_type": "code",
   "execution_count": null,
   "metadata": {},
   "outputs": [],
   "source": []
  }
 ],
 "metadata": {
  "kernelspec": {
   "display_name": ".venv",
   "language": "python",
   "name": "python3"
  },
  "language_info": {
   "codemirror_mode": {
    "name": "ipython",
    "version": 3
   },
   "file_extension": ".py",
   "mimetype": "text/x-python",
   "name": "python",
   "nbconvert_exporter": "python",
   "pygments_lexer": "ipython3",
   "version": "3.11.7"
  }
 },
 "nbformat": 4,
 "nbformat_minor": 2
}
